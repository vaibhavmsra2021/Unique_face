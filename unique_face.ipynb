import cv2
import os
from datetime import datetime
from deepface import DeepFace
import shutil
from google.colab import files
import matplotlib.pyplot as plt

# Set up directory paths (using Colab's file structure)
db_folder_path = '/content/face_recognition'
os.makedirs(db_folder_path, exist_ok=True)

# Initialize user ID based on existing folders
def initialize_next_user_id(db_folder_path):
    # List all directories in the database folder path
    existing_folders = [name for name in os.listdir(db_folder_path) if os.path.isdir(os.path.join(db_folder_path, name))]
    if not existing_folders:
        return 1  # If no folders exist, start with user_1
    # Extract the user IDs from folder names
    user_ids = [int(folder_name.split('_')[1]) for folder_name in existing_folders if folder_name.startswith('user_')]
    return max(user_ids) + 1  # Set the next user ID to the max existing ID + 1

next_user_id = initialize_next_user_id(db_folder_path)

# Function to verify if a captured image matches any existing person
def find_matching_person_folder(captured_img_path, threshold=0.3):
    for user_folder in os.listdir(db_folder_path):
        user_folder_path = os.path.join(db_folder_path, user_folder)
        if os.path.isdir(user_folder_path):
            for img_file in os.listdir(user_folder_path):
                img_path = os.path.join(user_folder_path, img_file)
                try:
                    # Perform verification using Facenet512 model
                    result = DeepFace.verify(
                        img1_path=captured_img_path,
                        img2_path=img_path,
                        model_name="Facenet512",
                        enforce_detection=False
                    )
                    if result["verified"] and result["distance"] < threshold:
                        return user_folder_path
                except Exception as e:
                    print(f"Error in verifying {img_path}: {e}")
                    continue
    return None

# Function to create a new person folder
def create_new_person_folder():
    global next_user_id
    new_user_folder = os.path.join(db_folder_path, f"user_{next_user_id}")
    os.makedirs(new_user_folder)
    next_user_id += 1
    return new_user_folder

# Upload an image to simulate capturing from a webcam
uploaded = files.upload()
for file_name in uploaded.keys():
    captured_img_path = file_name

    # Display the uploaded image
    img = cv2.imread(captured_img_path)
    plt.imshow(cv2.cvtColor(img, cv2.COLOR_BGR2RGB))
    plt.axis('off')
    plt.show()

    # Find matching person folder or create a new one
    person_folder = find_matching_person_folder(captured_img_path)

    if person_folder is None:
        person_folder = create_new_person_folder()
        print("No match found. Created a new folder.")
    else:
        print("Match found. Saving to existing folder.")

    # Save the image
    img_name = datetime.now().strftime("%Y%m%d_%H%M%S") + ".jpg"
    shutil.move(captured_img_path, os.path.join(person_folder, img_name))
    print(f"Image saved in {person_folder}")
